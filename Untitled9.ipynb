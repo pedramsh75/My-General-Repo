{
 "cells": [
  {
   "cell_type": "code",
   "execution_count": 3,
   "id": "749777b2-4285-45c8-9eaf-3cfbf93c2425",
   "metadata": {},
   "outputs": [
    {
     "ename": "UnidentifiedImageError",
     "evalue": "cannot identify image file <_io.BytesIO object at 0x00000166D11F4130>",
     "output_type": "error",
     "traceback": [
      "\u001b[1;31m---------------------------------------------------------------------------\u001b[0m",
      "\u001b[1;31mUnidentifiedImageError\u001b[0m                    Traceback (most recent call last)",
      "Cell \u001b[1;32mIn[3], line 11\u001b[0m\n\u001b[0;32m      9\u001b[0m \u001b[38;5;66;03m# Download the image\u001b[39;00m\n\u001b[0;32m     10\u001b[0m response \u001b[38;5;241m=\u001b[39m requests\u001b[38;5;241m.\u001b[39mget(image_url)\n\u001b[1;32m---> 11\u001b[0m image \u001b[38;5;241m=\u001b[39m Image\u001b[38;5;241m.\u001b[39mopen(BytesIO(response\u001b[38;5;241m.\u001b[39mcontent))\n\u001b[0;32m     13\u001b[0m \u001b[38;5;66;03m# Save the image locally (optional)\u001b[39;00m\n\u001b[0;32m     14\u001b[0m image\u001b[38;5;241m.\u001b[39msave(\u001b[38;5;124m'\u001b[39m\u001b[38;5;124mgithub_image.png\u001b[39m\u001b[38;5;124m'\u001b[39m)\n",
      "File \u001b[1;32mC:\\ProgramData\\anaconda3\\Lib\\site-packages\\PIL\\Image.py:3280\u001b[0m, in \u001b[0;36mopen\u001b[1;34m(fp, mode, formats)\u001b[0m\n\u001b[0;32m   3278\u001b[0m     warnings\u001b[38;5;241m.\u001b[39mwarn(message)\n\u001b[0;32m   3279\u001b[0m msg \u001b[38;5;241m=\u001b[39m \u001b[38;5;124m\"\u001b[39m\u001b[38;5;124mcannot identify image file \u001b[39m\u001b[38;5;132;01m%r\u001b[39;00m\u001b[38;5;124m\"\u001b[39m \u001b[38;5;241m%\u001b[39m (filename \u001b[38;5;28;01mif\u001b[39;00m filename \u001b[38;5;28;01melse\u001b[39;00m fp)\n\u001b[1;32m-> 3280\u001b[0m \u001b[38;5;28;01mraise\u001b[39;00m UnidentifiedImageError(msg)\n",
      "\u001b[1;31mUnidentifiedImageError\u001b[0m: cannot identify image file <_io.BytesIO object at 0x00000166D11F4130>"
     ]
    }
   ],
   "source": [
    "import requests\n",
    "from PIL import Image\n",
    "from io import BytesIO\n",
    "import matplotlib.pyplot as plt\n",
    "\n",
    "# Raw image URL from GitHub\n",
    "image_url = 'https://github.com/pedramsh75/My-General-Repo/Screenshot%202024-08-07%20150612.jpeg'\n",
    "\n",
    "# Download the image\n",
    "response = requests.get(image_url)\n",
    "image = Image.open(BytesIO(response.content))\n",
    "\n",
    "# Save the image locally (optional)\n",
    "image.save('github_image.png')\n",
    "\n",
    "# Create an A3-sized design sheet\n",
    "fig = plt.figure(figsize=(16.5, 11.7), dpi=100)\n",
    "ax = fig.add_subplot(111)\n",
    "\n",
    "# Display the image\n",
    "ax.imshow(image, extent=[0, 65, 0, 65])  # Adjust extent as needed\n",
    "\n",
    "# Add a scale bar\n",
    "scale_bar_length = 1  # 1 meter scale bar length\n",
    "scale_bar_width = 0.05\n",
    "scale_bar_x = 2  # X position in meters\n",
    "scale_bar_y = 2  # Y position in meters\n",
    "ax.add_patch(patches.Rectangle((scale_bar_x, scale_bar_y), scale_bar_length, scale_bar_width,\n",
    "                               edgecolor='black', facecolor='black'))\n",
    "\n",
    "# Add scale text\n",
    "ax.text(scale_bar_x + scale_bar_length / 2, scale_bar_y - 0.05,\n",
    "        f'{scale_bar_length} m', ha='center', va='bottom', fontsize=10, color='black')\n",
    "\n",
    "# Add a north arrow\n",
    "north_arrow_length = 0.5  # Length of the north arrow\n",
    "north_arrow_x = 62\n",
    "north_arrow_y = 62\n",
    "ax.add_patch(patches.FancyArrowPatch((north_arrow_x, north_arrow_y),\n",
    "                                     (north_arrow_x, north_arrow_y + north_arrow_length),\n",
    "                                     mutation_scale=20, color='black'))\n",
    "\n",
    "# Add north arrow text\n",
    "ax.text(north_arrow_x, north_arrow_y + north_arrow_length + 0.1,\n",
    "        'N', ha='center', va='bottom', fontsize=10, color='black')\n",
    "\n",
    "# Add a grid\n",
    "grid_spacing = 65  # 65 meters\n",
    "ax.set_xticks(range(0, 65 + 1, grid_spacing))\n",
    "ax.set_yticks(range(0, 65 + 1, grid_spacing))\n",
    "ax.grid(True, which='both', color='gray', linestyle='--', linewidth=0.5)\n",
    "\n",
    "# Set limits and remove axes\n",
    "ax.set_xlim(0, 65)\n",
    "ax.set_ylim(0, 65)\n",
    "ax.axis('off')\n",
    "\n",
    "# Save the final design sheet\n",
    "plt.savefig('engineering_design_sheet.png', dpi=300, bbox_inches='tight')\n",
    "plt.show()\n"
   ]
  },
  {
   "cell_type": "code",
   "execution_count": null,
   "id": "e195b9de-eb83-48d2-937b-592304d40c4b",
   "metadata": {},
   "outputs": [],
   "source": []
  }
 ],
 "metadata": {
  "kernelspec": {
   "display_name": "Python 3 (ipykernel)",
   "language": "python",
   "name": "python3"
  },
  "language_info": {
   "codemirror_mode": {
    "name": "ipython",
    "version": 3
   },
   "file_extension": ".py",
   "mimetype": "text/x-python",
   "name": "python",
   "nbconvert_exporter": "python",
   "pygments_lexer": "ipython3",
   "version": "3.11.5"
  }
 },
 "nbformat": 4,
 "nbformat_minor": 5
}
